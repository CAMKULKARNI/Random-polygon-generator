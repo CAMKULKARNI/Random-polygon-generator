{
 "cells": [
  {
   "cell_type": "code",
   "execution_count": null,
   "source": [
    "import numpy as np\r\n",
    "import random\r\n",
    "import matplotlib.pyplot as plt\r\n",
    "%matplotlib inline"
   ],
   "outputs": [],
   "metadata": {}
  },
  {
   "cell_type": "code",
   "execution_count": null,
   "source": [
    "n = int(input(\"Enter the number of co-ordinates : \"))\r\n",
    "theta = np.array(sorted(random.vonmisesvariate(mu=np.pi, kappa=1) for i in range(n)))\r\n",
    "print(theta)"
   ],
   "outputs": [],
   "metadata": {}
  },
  {
   "cell_type": "code",
   "execution_count": null,
   "source": [
    "n = int(input(\"Enter the number of co-ordinates : \"))\r\n",
    "theta = np.array(sorted(random.vonmisesvariate(mu=np.pi, kappa=1) for i in range(n)))\r\n",
    "print(theta)\r\n",
    "\r\n",
    "x = []\r\n",
    "y = []\r\n",
    "radii = random.randrange(0, 1000)\r\n",
    "for i in range(n):\r\n",
    "    x.append(radii * np.cos(theta[i]))\r\n",
    "    y.append(radii * np.sin(theta[i]))\r\n",
    "    offset = random.randrange(100, 200)\r\n",
    "    radii = random.randrange(radii - offset, radii + offset)\r\n",
    "\r\n",
    "x.append(x[0])\r\n",
    "y.append(y[0])\r\n",
    "\r\n",
    "plt.figure()\r\n",
    "plt.plot(x, y)\r\n",
    "plt.show()"
   ],
   "outputs": [],
   "metadata": {}
  },
  {
   "cell_type": "code",
   "execution_count": null,
   "source": [
    "x"
   ],
   "outputs": [],
   "metadata": {}
  },
  {
   "cell_type": "code",
   "execution_count": null,
   "source": [
    "y"
   ],
   "outputs": [],
   "metadata": {}
  },
  {
   "cell_type": "code",
   "execution_count": null,
   "source": [
    "coordinates"
   ],
   "outputs": [],
   "metadata": {}
  },
  {
   "cell_type": "code",
   "execution_count": null,
   "source": [
    "text = \"POLYGON ((\"\r\n",
    "for i in range(len(coordinates)):\r\n",
    "    text = text + str(coordinates[i][0])+\" \"+ str(coordinates[i][1]) + \", \"\r\n",
    "text += str(coordinates[0][0]) + \" \" + str(coordinates[0][1]) + \"))\"\r\n",
    "print(text)"
   ],
   "outputs": [],
   "metadata": {}
  },
  {
   "cell_type": "code",
   "execution_count": null,
   "source": [
    "import numpy as np\r\n",
    "import random\r\n",
    "n = int(input(\"Enter the number of co-ordinates : \")) # works nicely till 201 vertices\r\n",
    "theta = np.array(sorted(random.vonmisesvariate(mu=np.pi, kappa=1) for i in range(n)))\r\n",
    "\r\n",
    "x = []\r\n",
    "y = []\r\n",
    "radii = random.randrange(0, 1000)\r\n",
    "for i in range(n):\r\n",
    "    x.append(radii * np.cos(theta[i]))\r\n",
    "    y.append(radii * np.sin(theta[i]))\r\n",
    "    offset = random.randrange(100, 200)\r\n",
    "    radii = random.randrange(radii - offset, radii + offset)\r\n",
    "\r\n",
    "coordinates = list(zip(x, y))\r\n",
    "text = \"POLYGON ((\"\r\n",
    "for i in range(len(coordinates)):\r\n",
    "    text = text + str(coordinates[i][0])+\" \"+ str(coordinates[i][1]) + \", \"\r\n",
    "text += str(coordinates[0][0]) + \" \" + str(coordinates[0][1]) + \"))\"\r\n",
    "print(text)\r\n",
    "\r\n",
    "x.append(x[0])\r\n",
    "y.append(y[0])\r\n",
    "\r\n",
    "plt.figure()\r\n",
    "plt.plot(x, y)\r\n",
    "plt.show()"
   ],
   "outputs": [],
   "metadata": {}
  },
  {
   "cell_type": "code",
   "execution_count": null,
   "source": [],
   "outputs": [],
   "metadata": {}
  }
 ],
 "metadata": {
  "kernelspec": {
   "display_name": "Python 3",
   "language": "python",
   "name": "python3"
  },
  "language_info": {
   "codemirror_mode": {
    "name": "ipython",
    "version": 3
   },
   "file_extension": ".py",
   "mimetype": "text/x-python",
   "name": "python",
   "nbconvert_exporter": "python",
   "pygments_lexer": "ipython3",
   "version": "3.8.5"
  }
 },
 "nbformat": 4,
 "nbformat_minor": 5
}